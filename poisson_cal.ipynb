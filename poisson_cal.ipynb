{
 "cells": [
  {
   "cell_type": "code",
   "execution_count": null,
   "id": "abc784c4-e2e7-4896-a822-876405d6237c",
   "metadata": {},
   "outputs": [
    {
     "name": "stdin",
     "output_type": "stream",
     "text": [
      "Do you have lambda(mean) or n(sample size) and p(probability of success)? \n",
      "1: lambda \n",
      "2: n and p \n",
      "  9\n"
     ]
    },
    {
     "name": "stdout",
     "output_type": "stream",
     "text": [
      "Invalid response!!! try again\n",
      "\n"
     ]
    },
    {
     "name": "stdin",
     "output_type": "stream",
     "text": [
      "Do you have lambda(mean) or n(sample size) and p(probability of success)? \n",
      "1: lambda \n",
      "2: n and p \n",
      "  6\n"
     ]
    },
    {
     "name": "stdout",
     "output_type": "stream",
     "text": [
      "Invalid response!!! try again\n",
      "\n"
     ]
    },
    {
     "name": "stdin",
     "output_type": "stream",
     "text": [
      "Do you have lambda(mean) or n(sample size) and p(probability of success)? \n",
      "1: lambda \n",
      "2: n and p \n",
      "  2\n",
      "input n(sample size): 12\n",
      "input p(probability of success): 0.23\n",
      "Do you have an exact number of trials or a range of trials you wish to calculate\n",
      "1: Exact\n",
      "2: Range\n",
      " 1\n",
      "input number of trials 7\n"
     ]
    },
    {
     "name": "stdout",
     "output_type": "stream",
     "text": [
      "probability of exactly 7 trials: 0.015320758538139871\n"
     ]
    }
   ],
   "source": [
    "import numpy as np\n",
    "import matplotlib as plt\n",
    "from scipy.stats import poisson\n",
    "#function to get the mean from the user, it returns the value of the mean\n",
    "def get_mean():\n",
    "    option = int(input('Do you have lambda(mean) or n(sample size) and p(probability of success)? \\n1: lambda \\n2: n and p \\n '))\n",
    "    if(option == 1):\n",
    "        lambda_value = eval(input(\"insert the lambda(mean):\"))\n",
    "    elif(option==2):\n",
    "        n = eval(input(\"input n(sample size):\"))\n",
    "        p = eval(input(\"input p(probability of success):\"))\n",
    "        lambda_value = n*p\n",
    "    else:\n",
    "        print(\"Invalid response!!! try again\\n\")\n",
    "        poisson_cal(get_mean())\n",
    "        \n",
    "    if(lambda_value>5 or lambda_value<=0):\n",
    "        print(\"This shouldn't be modelled with a poisson distribution because the mean is greager than 5, please try another mean\\n\")\n",
    "        poisson_cal(get_mean())\n",
    "    else:\n",
    "         return lambda_value\n",
    "#function to do the calculations based of several options choosen by the user\n",
    "def poisson_cal(mean):\n",
    "      #finding out if the user wants to get an exact probability eg(P(X=x)) or a range e.g(P(X>2))\n",
    "    trial_type = int(input(\"Do you have an exact number of trials or a range of trials you wish to calculate\\n1: Exact\\n2: Range\\n\"))\n",
    "        #Case one: when the user wants just a single probability\n",
    "    if(trial_type==1):\n",
    "        num_trials =int(input(\"input number of trials\"))\n",
    "        probability = poisson.pmf(num_trials,mean)\n",
    "        print(f\"probability of exactly {num_trials} trials: {probability}\")\n",
    "       #Case two: when the user wants to calculate for a range of values of x\n",
    "    elif(trial_type == 2):\n",
    "        # Getting the range type from the user e.g (x>=a, x<=a, a<=x<=b)\n",
    "        range_type = int(input(\"select your range type\\n1: greater than or equal to a certain value\\n2: less than or equal to a certain value\\n3: within a specific range, inclusive\\n\"))\n",
    "       #for P(x>=a)\n",
    "        if(range_type == 1):\n",
    "            bound=int(input(\"Enter the bound\"))\n",
    "            if (bound == 0):\n",
    "                probability = poisson.pmf(bound,mean)\n",
    "                print(f\"probability of having exactly {bound} trials : {probability}\")  \n",
    "            elif(bound>0):    \n",
    "                probability = 1- poisson.cdf(bound-1,mean)\n",
    "                print(f\"probability of having {bound} trials and above : {probability}\")  \n",
    "            else:\n",
    "                print(\"invalid bound!!\")\n",
    "                \n",
    "           #for P(x<=a)         \n",
    "        elif(range_type == 2):\n",
    "            bound=int(input(\"Enter the bound\"))\n",
    "            if (bound == 0):\n",
    "                probability = poisson.pmf(bound,mean)\n",
    "                print(f\"probability of having exactly {bound} trials : {probability}\")\n",
    "            elif(bound>0):    \n",
    "                probability = poisson.cdf(bound,mean)\n",
    "                print(f\"probability of having {bound} trials and below : {probability}\") \n",
    "            else:\n",
    "                print(\"invalid bound!!\")\n",
    "                \n",
    "        #for P(a<=x<=b)\n",
    "        elif(range_type==3):\n",
    "            lower_bound=int(input(\"Enter the lower bound\"))\n",
    "            upper_bound=int(input(\"Enter the upper bound\"))\n",
    "            #Validation of upper and lower bounds\n",
    "            if (lower_bound>upper_bound):\n",
    "                temp = lower_bound\n",
    "                lower_bound = upper_bound\n",
    "                upper_bound = temp\n",
    "            if(lower_bound==upper_bound):\n",
    "                probability = poisson.pmf(lower_bound,mean)\n",
    "                print(f\"probability of exactly {lower_bound} trials: {probability}\")\n",
    "               \n",
    "            elif(upper_bound<0 or lower_bound<0):\n",
    "                print(\"Invalid bounds\")\n",
    "               \n",
    "            else:\n",
    "                if(lower_bound==0):\n",
    "                    probability = poisson.cdf(upper_bound,mean)\n",
    "                    print(f\"probability of having {upper_bound} trials and below : {probability}\")\n",
    "                else:\n",
    "                    lower_cmf = poisson.cdf(lower_bound-1,mean)\n",
    "                    upper_cmf = poisson.cdf(upper_bound,mean)\n",
    "                    probability = upper_cmf-lower_cmf\n",
    "                    print(f\"probability of having from {lower_bound} to {upper_bound} trials inclusive : {probability}\")\n",
    "    #This is section asks for your next move, if you want to do more calculation or you wish to exit\n",
    "    else:\n",
    "        print(\"invalid response\")\n",
    "    decision = int(input(\"\\n\\nWhat next?????\\n1: Do other calculations with the same mean\\n2: Use another mean\\n3: Exit\\n\"))\n",
    "    if (decision==1):\n",
    "        poisson_cal(mean)\n",
    "    elif(decision==2):\n",
    "        poisson_cal(get_mean())\n",
    "    elif(decision == 3):\n",
    "        print(\"Successfully Exited\")\n",
    "        return\n",
    "    else:\n",
    "        print(\"invalid decision\")\n",
    "        return\n",
    "poisson_cal(get_mean())"
   ]
  },
  {
   "cell_type": "markdown",
   "id": "d97ea09e-0bd8-47a1-a3a5-5f4bbd17d30d",
   "metadata": {},
   "source": [
    "# "
   ]
  },
  {
   "cell_type": "code",
   "execution_count": null,
   "id": "277b6eb1-8c60-4edf-8924-92ad6b433d41",
   "metadata": {},
   "outputs": [],
   "source": []
  },
  {
   "cell_type": "code",
   "execution_count": null,
   "id": "1706c2c1-2cf4-4e42-b965-7d0599729bd8",
   "metadata": {},
   "outputs": [],
   "source": []
  }
 ],
 "metadata": {
  "kernelspec": {
   "display_name": "Python 3 (ipykernel)",
   "language": "python",
   "name": "python3"
  },
  "language_info": {
   "codemirror_mode": {
    "name": "ipython",
    "version": 3
   },
   "file_extension": ".py",
   "mimetype": "text/x-python",
   "name": "python",
   "nbconvert_exporter": "python",
   "pygments_lexer": "ipython3",
   "version": "3.12.4"
  }
 },
 "nbformat": 4,
 "nbformat_minor": 5
}
